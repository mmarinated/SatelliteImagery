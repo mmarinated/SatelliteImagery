{
 "cells": [
  {
   "cell_type": "code",
   "execution_count": 1,
   "metadata": {},
   "outputs": [],
   "source": [
    "import json\n",
    "from urllib.request import urlopen\n",
    "import requests\n",
    "import pandas as pd"
   ]
  },
  {
   "cell_type": "code",
   "execution_count": 2,
   "metadata": {},
   "outputs": [],
   "source": [
    "def get_jsonparsed_data(projectId):\n",
    "    response = requests.get(\"https://tasks.hotosm.org/api/v1/project/\" + str(projectId))\n",
    "    return response.json()\n",
    "\n",
    "def read_jsonfile_data(fileName):\n",
    "    with open(fileName) as f:\n",
    "        data = json.load(f)\n",
    "    return data    \n",
    "    \n",
    "projects = []\n",
    "project_json = read_jsonfile_data(\"project.json\")"
   ]
  },
  {
   "cell_type": "code",
   "execution_count": 3,
   "metadata": {},
   "outputs": [],
   "source": [
    "result = pd.DataFrame(columns=['ProjectId', 'TaskId', 'TaskStatus', 'Coordinates'])"
   ]
  },
  {
   "cell_type": "code",
   "execution_count": 7,
   "metadata": {},
   "outputs": [],
   "source": [
    "validated_percent = {}"
   ]
  },
  {
   "cell_type": "code",
   "execution_count": 18,
   "metadata": {},
   "outputs": [],
   "source": [
    "for key,value in enumerate(project_json['mapResults']['features']):\n",
    "    projects.append(value['properties']['projectId'])\n",
    "    \n",
    "for projectId in projects:\n",
    "    val = 0\n",
    "    task_json = get_jsonparsed_data(projectId)\n",
    "    for task in task_json['tasks']['features']:\n",
    "        #result = result.append({'ProjectId' : projectId,\n",
    "        #               'TaskId' : task['properties']['taskId'],\n",
    "        #               'TaskStatus' : task['properties']['taskStatus'],\n",
    "        #               'Coordinates' : task['geometry']['coordinates']}, ignore_index = True)\n",
    "        if task['properties']['taskStatus'] == \"VALIDATED\":\n",
    "            val += 1\n",
    "    validated_percent[projectId] = val / len(task_json['tasks']['features'])\n",
    "  "
   ]
  },
  {
   "cell_type": "code",
   "execution_count": 51,
   "metadata": {},
   "outputs": [],
   "source": [
    "np.set_printoptions(precision=0,suppress=True) \n",
    "final =  [int(k) for k, v in validated_percent.items() if v > 0.90]"
   ]
  },
  {
   "cell_type": "code",
   "execution_count": 52,
   "metadata": {},
   "outputs": [],
   "source": [
    " final_1 = [int(k) for k, v in validated_percent.items() if v == 1]"
   ]
  },
  {
   "cell_type": "code",
   "execution_count": 53,
   "metadata": {},
   "outputs": [],
   "source": [
    "import numpy as np\n",
    "a = np.asarray(final_1)\n",
    "np.savetxt(\"project_100b.csv\", a, delimiter=\",\")"
   ]
  },
  {
   "cell_type": "code",
   "execution_count": 54,
   "metadata": {},
   "outputs": [],
   "source": [
    "a = np.asarray(final)\n",
    "np.savetxt(\"project_90b.csv\", a, delimiter=\",\")"
   ]
  }
 ],
 "metadata": {
  "kernelspec": {
   "display_name": "Python 3",
   "language": "python",
   "name": "python3"
  },
  "language_info": {
   "codemirror_mode": {
    "name": "ipython",
    "version": 3
   },
   "file_extension": ".py",
   "mimetype": "text/x-python",
   "name": "python",
   "nbconvert_exporter": "python",
   "pygments_lexer": "ipython3",
   "version": "3.6.5"
  }
 },
 "nbformat": 4,
 "nbformat_minor": 2
}
